{
 "cells": [
  {
   "cell_type": "code",
   "execution_count": 1,
   "id": "af1e5a3b-c9c7-40de-866c-544e39a20109",
   "metadata": {
    "execution": {
     "iopub.execute_input": "2024-07-09T02:12:54.445190Z",
     "iopub.status.busy": "2024-07-09T02:12:54.444245Z",
     "iopub.status.idle": "2024-07-09T02:12:54.604852Z",
     "shell.execute_reply": "2024-07-09T02:12:54.603507Z",
     "shell.execute_reply.started": "2024-07-09T02:12:54.445135Z"
    }
   },
   "outputs": [
    {
     "ename": "ModuleNotFoundError",
     "evalue": "No module named 'pandas'",
     "output_type": "error",
     "traceback": [
      "\u001b[0;31m---------------------------------------------------------------------------\u001b[0m",
      "\u001b[0;31mModuleNotFoundError\u001b[0m                       Traceback (most recent call last)",
      "Cell \u001b[0;32mIn[1], line 1\u001b[0m\n\u001b[0;32m----> 1\u001b[0m \u001b[38;5;28;01mimport\u001b[39;00m \u001b[38;5;21;01mpandas\u001b[39;00m\n",
      "\u001b[0;31mModuleNotFoundError\u001b[0m: No module named 'pandas'"
     ]
    }
   ],
   "source": [
    "import pandas"
   ]
  },
  {
   "cell_type": "code",
   "execution_count": null,
   "id": "d39391a0-e122-4ba3-a201-710d6b5bf616",
   "metadata": {},
   "outputs": [],
   "source": []
  }
 ],
 "metadata": {
  "kernelspec": {
   "display_name": "Python 3 (ipykernel)",
   "language": "python",
   "name": "python3"
  },
  "language_info": {
   "codemirror_mode": {
    "name": "ipython",
    "version": 3
   },
   "file_extension": ".py",
   "mimetype": "text/x-python",
   "name": "python",
   "nbconvert_exporter": "python",
   "pygments_lexer": "ipython3",
   "version": "3.11.6"
  }
 },
 "nbformat": 4,
 "nbformat_minor": 5
}
